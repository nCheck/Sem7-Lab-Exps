{
 "cells": [
  {
   "cell_type": "code",
   "execution_count": 1,
   "metadata": {},
   "outputs": [],
   "source": [
    "from pyspark import SparkContext\n",
    "import re\n",
    "sc = SparkContext()"
   ]
  },
  {
   "cell_type": "code",
   "execution_count": 2,
   "metadata": {},
   "outputs": [],
   "source": [
    "lines = sc.textFile('./data/wiki.txt')"
   ]
  },
  {
   "cell_type": "code",
   "execution_count": 7,
   "metadata": {},
   "outputs": [],
   "source": [
    "#Word Count with filtering by word length = 3\n",
    "# x[0] contains key and x[1] contains value\n",
    "counts = lines.flatMap(lambda x: x.split(' ')) \\\n",
    "              .map(lambda x: (x, 1)) \\\n",
    "            .filter(lambda x: len(x[0]) == 3 ) \\\n",
    "              .reduceByKey(lambda a,b : a+b) \\"
   ]
  },
  {
   "cell_type": "code",
   "execution_count": 4,
   "metadata": {},
   "outputs": [
    {
     "data": {
      "text/plain": [
       "[('The', 19),\n",
       " ('job', 2),\n",
       " ('is,', 1),\n",
       " ('two', 1),\n",
       " ('due', 1),\n",
       " ('run', 2),\n",
       " ('via', 2),\n",
       " ('own', 1),\n",
       " ('set', 2),\n",
       " ('are', 7),\n",
       " ('use', 1),\n",
       " ('the', 54),\n",
       " ('and', 22),\n",
       " ('DAG', 1),\n",
       " ('all', 3),\n",
       " ('who', 3),\n",
       " ('for', 15),\n",
       " ('has', 4),\n",
       " ('its', 1),\n",
       " ('API', 1),\n",
       " ('top', 1),\n",
       " ('few', 1),\n",
       " ('can', 2),\n",
       " ('SLA', 1),\n",
       " ('one', 1),\n",
       " ('per', 1),\n",
       " ('any', 1),\n",
       " ('not', 1)]"
      ]
     },
     "execution_count": 4,
     "metadata": {},
     "output_type": "execute_result"
    }
   ],
   "source": [
    "counts.collect()"
   ]
  },
  {
   "cell_type": "code",
   "execution_count": 85,
   "metadata": {},
   "outputs": [],
   "source": [
    "#Word Count with filtering by regex where first character of word is i or I\n",
    "# x[0] contains key and x[1] contains value\n",
    "counts = lines.flatMap(lambda x: x.split(' ')) \\\n",
    "              .map(lambda x: (x, 1)) \\\n",
    "            .filter(lambda x: re.match( '^i|I' , x[0] ) ) \\\n",
    "              .reduceByKey(lambda a,b : a+b) \\"
   ]
  },
  {
   "cell_type": "code",
   "execution_count": 86,
   "metadata": {},
   "outputs": [
    {
     "data": {
      "text/plain": [
       "[('idea', 3),\n",
       " ('is', 19),\n",
       " ('into', 1),\n",
       " ('in', 8),\n",
       " ('is,', 1),\n",
       " ('instruct', 1),\n",
       " ('it', 4),\n",
       " ('its', 1),\n",
       " ('incorporates', 1),\n",
       " ('important', 1),\n",
       " ('In', 1),\n",
       " ('independent', 2),\n",
       " ('installations', 1),\n",
       " ('impervious', 1),\n",
       " ('initialized', 1)]"
      ]
     },
     "execution_count": 86,
     "metadata": {},
     "output_type": "execute_result"
    }
   ],
   "source": [
    "counts.collect()"
   ]
  },
  {
   "cell_type": "code",
   "execution_count": 68,
   "metadata": {},
   "outputs": [
    {
     "name": "stdout",
     "output_type": "stream",
     "text": [
      "The: 19\n",
      "job: 2\n",
      "is,: 1\n",
      "two: 1\n",
      "due: 1\n",
      "run: 2\n",
      "via: 2\n",
      "own: 1\n",
      "set: 2\n",
      "are: 7\n",
      "use: 1\n",
      "the: 54\n",
      "and: 22\n",
      "DAG: 1\n",
      "all: 3\n",
      "who: 3\n",
      "for: 15\n",
      "has: 4\n",
      "its: 1\n",
      "API: 1\n",
      "top: 1\n",
      "few: 1\n",
      "can: 2\n",
      "SLA: 1\n",
      "one: 1\n",
      "per: 1\n",
      "any: 1\n",
      "not: 1\n"
     ]
    }
   ],
   "source": [
    "output = counts.collect()\n",
    "for (word, count) in output:\n",
    "    print(\"%s: %i\" % (word, count))"
   ]
  }
 ],
 "metadata": {
  "kernelspec": {
   "display_name": "Python 3",
   "language": "python",
   "name": "python3"
  },
  "language_info": {
   "codemirror_mode": {
    "name": "ipython",
    "version": 3
   },
   "file_extension": ".py",
   "mimetype": "text/x-python",
   "name": "python",
   "nbconvert_exporter": "python",
   "pygments_lexer": "ipython3",
   "version": "3.7.3"
  }
 },
 "nbformat": 4,
 "nbformat_minor": 2
}
