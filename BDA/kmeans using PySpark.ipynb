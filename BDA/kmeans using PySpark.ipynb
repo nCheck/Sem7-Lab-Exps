{
 "cells": [
  {
   "cell_type": "markdown",
   "metadata": {},
   "source": []
  },
  {
   "cell_type": "code",
   "execution_count": 2,
   "metadata": {},
   "outputs": [
    {
     "data": {
      "text/html": [
       "<style scoped>\n",
       "  .ansiout {\n",
       "    display: block;\n",
       "    unicode-bidi: embed;\n",
       "    white-space: pre-wrap;\n",
       "    word-wrap: break-word;\n",
       "    word-break: break-all;\n",
       "    font-family: \"Source Code Pro\", \"Menlo\", monospace;;\n",
       "    font-size: 13px;\n",
       "    color: #555;\n",
       "    margin-left: 4px;\n",
       "    line-height: 19px;\n",
       "  }\n",
       "</style>\n",
       "<div class=\"ansiout\">+-------+-----------+-----------------+---------+----------------+----------------------+------------+-------------------+--------------------------+--------------------------------+----------------------+----------------+-------------+------------+-----------+----------------+----------------+------+\n",
       "CUST_ID|    BALANCE|BALANCE_FREQUENCY|PURCHASES|ONEOFF_PURCHASES|INSTALLMENTS_PURCHASES|CASH_ADVANCE|PURCHASES_FREQUENCY|ONEOFF_PURCHASES_FREQUENCY|PURCHASES_INSTALLMENTS_FREQUENCY|CASH_ADVANCE_FREQUENCY|CASH_ADVANCE_TRX|PURCHASES_TRX|CREDIT_LIMIT|   PAYMENTS|MINIMUM_PAYMENTS|PRC_FULL_PAYMENT|TENURE|\n",
       "+-------+-----------+-----------------+---------+----------------+----------------------+------------+-------------------+--------------------------+--------------------------------+----------------------+----------------+-------------+------------+-----------+----------------+----------------+------+\n",
       " C10001|  40.900749|         0.818182|     95.4|             0.0|                  95.4|         0.0|           0.166667|                       0.0|                        0.083333|                   0.0|               0|            2|      1000.0| 201.802084|      139.509787|             0.0|    12|\n",
       " C10002|3202.467416|         0.909091|      0.0|             0.0|                   0.0| 6442.945483|                0.0|                       0.0|                             0.0|                  0.25|               4|            0|      7000.0|4103.032597|     1072.340217|        0.222222|    12|\n",
       " C10003|2495.148862|              1.0|   773.17|          773.17|                   0.0|         0.0|                1.0|                       1.0|                             0.0|                   0.0|               0|           12|      7500.0| 622.066742|      627.284787|             0.0|    12|\n",
       " C10004|1666.670542|         0.636364|   1499.0|          1499.0|                   0.0|  205.788017|           0.083333|                  0.083333|                             0.0|              0.083333|               1|            1|      7500.0|        0.0|            null|             0.0|    12|\n",
       " C10005| 817.714335|              1.0|     16.0|            16.0|                   0.0|         0.0|           0.083333|                  0.083333|                             0.0|                   0.0|               0|            1|      1200.0| 678.334763|      244.791237|             0.0|    12|\n",
       "+-------+-----------+-----------------+---------+----------------+----------------------+------------+-------------------+--------------------------+--------------------------------+----------------------+----------------+-------------+------------+-----------+----------------+----------------+------+\n",
       "only showing top 5 rows\n",
       "\n",
       "</div>"
      ]
     },
     "metadata": {},
     "output_type": "display_data"
    }
   ],
   "source": [
    "# File location and type\n",
    "# Download from https://www.kaggle.com/arjunbhasin2013/ccdata/downloads/ccdata.zip/1\n",
    "file_location = \"./data/credit.csv\"\n",
    "file_type = \"csv\"\n",
    "\n",
    "# CSV options\n",
    "infer_schema = \"true\"\n",
    "first_row_is_header = \"true\"\n",
    "delimiter = \",\"\n",
    "\n",
    "# The applied options are for CSV files. For other file types, these will be ignored.\n",
    "df = spark.read.format(file_type) \\\n",
    "  .option(\"inferSchema\", infer_schema) \\\n",
    "  .option(\"header\", first_row_is_header) \\\n",
    "  .option(\"sep\", delimiter) \\\n",
    "  .load(file_location)\n",
    "\n",
    "df.show(5)"
   ]
  },
  {
   "cell_type": "code",
   "execution_count": 3,
   "metadata": {},
   "outputs": [
    {
     "data": {
      "text/html": [
       "<style scoped>\n",
       "  .ansiout {\n",
       "    display: block;\n",
       "    unicode-bidi: embed;\n",
       "    white-space: pre-wrap;\n",
       "    word-wrap: break-word;\n",
       "    word-break: break-all;\n",
       "    font-family: \"Source Code Pro\", \"Menlo\", monospace;;\n",
       "    font-size: 13px;\n",
       "    color: #555;\n",
       "    margin-left: 4px;\n",
       "    line-height: 19px;\n",
       "  }\n",
       "</style>\n",
       "<div class=\"ansiout\"><span class=\"ansired\">---------------------------------------------------------------------------</span>\n",
       "<span class=\"ansired\">AttributeError</span>                            Traceback (most recent call last)\n",
       "<span class=\"ansigreen\">&lt;command-4239327777720598&gt;</span> in <span class=\"ansicyan\">&lt;module&gt;</span><span class=\"ansiblue\">()</span>\n",
       "<span class=\"ansigreen\">      1</span> ndf <span class=\"ansiyellow\">=</span> df<span class=\"ansiyellow\">.</span>dropna<span class=\"ansiyellow\">(</span><span class=\"ansiyellow\">)</span><span class=\"ansiyellow\"></span>\n",
       "<span class=\"ansigreen\">----&gt; 2</span><span class=\"ansiyellow\"> </span>ndf<span class=\"ansiyellow\">.</span>isnull<span class=\"ansiyellow\">(</span><span class=\"ansiyellow\">)</span><span class=\"ansiyellow\">.</span>sum<span class=\"ansiyellow\">(</span><span class=\"ansiyellow\">)</span><span class=\"ansiyellow\"></span>\n",
       "\n",
       "<span class=\"ansigreen\">/databricks/spark/python/pyspark/sql/dataframe.py</span> in <span class=\"ansicyan\">__getattr__</span><span class=\"ansiblue\">(self, name)</span>\n",
       "<span class=\"ansigreen\">   1323</span>         <span class=\"ansigreen\">if</span> name <span class=\"ansigreen\">not</span> <span class=\"ansigreen\">in</span> self<span class=\"ansiyellow\">.</span>columns<span class=\"ansiyellow\">:</span><span class=\"ansiyellow\"></span>\n",
       "<span class=\"ansigreen\">   1324</span>             raise AttributeError(\n",
       "<span class=\"ansigreen\">-&gt; 1325</span><span class=\"ansiyellow\">                 &quot;&apos;%s&apos; object has no attribute &apos;%s&apos;&quot; % (self.__class__.__name__, name))\n",
       "</span><span class=\"ansigreen\">   1326</span>         jc <span class=\"ansiyellow\">=</span> self<span class=\"ansiyellow\">.</span>_jdf<span class=\"ansiyellow\">.</span>apply<span class=\"ansiyellow\">(</span>name<span class=\"ansiyellow\">)</span><span class=\"ansiyellow\"></span>\n",
       "<span class=\"ansigreen\">   1327</span>         <span class=\"ansigreen\">return</span> Column<span class=\"ansiyellow\">(</span>jc<span class=\"ansiyellow\">)</span><span class=\"ansiyellow\"></span>\n",
       "\n",
       "<span class=\"ansired\">AttributeError</span>: &apos;DataFrame&apos; object has no attribute &apos;isnull&apos;</div>"
      ]
     },
     "metadata": {},
     "output_type": "display_data"
    }
   ],
   "source": [
    "#Remove Null Values\n",
    "ndf = df.dropna()"
   ]
  },
  {
   "cell_type": "code",
   "execution_count": 4,
   "metadata": {},
   "outputs": [
    {
     "data": {
      "text/html": [
       "<style scoped>\n",
       "  .ansiout {\n",
       "    display: block;\n",
       "    unicode-bidi: embed;\n",
       "    white-space: pre-wrap;\n",
       "    word-wrap: break-word;\n",
       "    word-break: break-all;\n",
       "    font-family: \"Source Code Pro\", \"Menlo\", monospace;;\n",
       "    font-size: 13px;\n",
       "    color: #555;\n",
       "    margin-left: 4px;\n",
       "    line-height: 19px;\n",
       "  }\n",
       "</style>\n",
       "<div class=\"ansiout\"></div>"
      ]
     },
     "metadata": {},
     "output_type": "display_data"
    }
   ],
   "source": [
    "\n",
    "import numpy as np\n",
    "import pandas as pd\n",
    "import matplotlib.pyplot as plt\n",
    "from mpl_toolkits.mplot3d import Axes3D\n",
    "from sklearn.datasets.samples_generator import make_blobs\n",
    "from pyspark import SparkContext\n",
    "from pyspark.ml.clustering import KMeans\n",
    "from pyspark.ml.feature import VectorAssembler\n",
    "from pyspark.sql import SQLContext"
   ]
  },
  {
   "cell_type": "code",
   "execution_count": 5,
   "metadata": {},
   "outputs": [
    {
     "data": {
      "text/html": [
       "<style scoped>\n",
       "  .ansiout {\n",
       "    display: block;\n",
       "    unicode-bidi: embed;\n",
       "    white-space: pre-wrap;\n",
       "    word-wrap: break-word;\n",
       "    word-break: break-all;\n",
       "    font-family: \"Source Code Pro\", \"Menlo\", monospace;;\n",
       "    font-size: 13px;\n",
       "    color: #555;\n",
       "    margin-left: 4px;\n",
       "    line-height: 19px;\n",
       "  }\n",
       "</style>\n",
       "<div class=\"ansiout\"></div>"
      ]
     },
     "metadata": {},
     "output_type": "display_data"
    }
   ],
   "source": [
    "for col in ndf.columns:\n",
    "    if col != 'CUST_ID':\n",
    "        ndf = ndf.withColumn(col,ndf[col].cast('float'))"
   ]
  },
  {
   "cell_type": "code",
   "execution_count": 6,
   "metadata": {},
   "outputs": [
    {
     "data": {
      "text/html": [
       "<style scoped>\n",
       "  .ansiout {\n",
       "    display: block;\n",
       "    unicode-bidi: embed;\n",
       "    white-space: pre-wrap;\n",
       "    word-wrap: break-word;\n",
       "    word-break: break-all;\n",
       "    font-family: \"Source Code Pro\", \"Menlo\", monospace;;\n",
       "    font-size: 13px;\n",
       "    color: #555;\n",
       "    margin-left: 4px;\n",
       "    line-height: 19px;\n",
       "  }\n",
       "</style>\n",
       "<div class=\"ansiout\">[&apos;BALANCE&apos;, &apos;BALANCE_FREQUENCY&apos;, &apos;PURCHASES&apos;, &apos;ONEOFF_PURCHASES&apos;, &apos;INSTALLMENTS_PURCHASES&apos;, &apos;CASH_ADVANCE&apos;, &apos;PURCHASES_FREQUENCY&apos;, &apos;ONEOFF_PURCHASES_FREQUENCY&apos;, &apos;PURCHASES_INSTALLMENTS_FREQUENCY&apos;, &apos;CASH_ADVANCE_FREQUENCY&apos;, &apos;CASH_ADVANCE_TRX&apos;, &apos;PURCHASES_TRX&apos;, &apos;CREDIT_LIMIT&apos;, &apos;PAYMENTS&apos;, &apos;MINIMUM_PAYMENTS&apos;, &apos;PRC_FULL_PAYMENT&apos;, &apos;TENURE&apos;]\n",
       "</div>"
      ]
     },
     "metadata": {},
     "output_type": "display_data"
    }
   ],
   "source": [
    "temp = list(ndf.columns)\n",
    "FEAT = ['BALANCE', 'BALANCE_FREQUENCY', 'PURCHASES', 'ONEOFF_PURCHASES', 'INSTALLMENTS_PURCHASES', 'CASH_ADVANCE', 'PURCHASES_FREQUENCY', 'ONEOFF_PURCHASES_FREQUENCY', 'PURCHASES_INSTALLMENTS_FREQUENCY', 'CASH_ADVANCE_FREQUENCY', 'CASH_ADVANCE_TRX', 'PURCHASES_TRX', 'CREDIT_LIMIT', 'PAYMENTS', 'MINIMUM_PAYMENTS', 'PRC_FULL_PAYMENT', 'TENURE']"
   ]
  },
  {
   "cell_type": "code",
   "execution_count": 7,
   "metadata": {},
   "outputs": [
    {
     "data": {
      "text/html": [
       "<style scoped>\n",
       "  .ansiout {\n",
       "    display: block;\n",
       "    unicode-bidi: embed;\n",
       "    white-space: pre-wrap;\n",
       "    word-wrap: break-word;\n",
       "    word-break: break-all;\n",
       "    font-family: \"Source Code Pro\", \"Menlo\", monospace;;\n",
       "    font-size: 13px;\n",
       "    color: #555;\n",
       "    margin-left: 4px;\n",
       "    line-height: 19px;\n",
       "  }\n",
       "</style>\n",
       "<div class=\"ansiout\">+--------------------+\n",
       "            features|\n",
       "+--------------------+\n",
       "[40.9007492065429...|\n",
       "(17,[0,1,5,9,10,1...|\n",
       "[2495.14892578125...|\n",
       "[817.71435546875,...|\n",
       "[1809.82873535156...|\n",
       "[627.260803222656...|\n",
       "[1823.65270996093...|\n",
       "[1014.92645263671...|\n",
       "[152.225967407226...|\n",
       "[1293.125,1.0,920...|\n",
       "[630.794738769531...|\n",
       "[1516.92858886718...|\n",
       "[921.693359375,1....|\n",
       "(17,[0,1,5,9,10,1...|\n",
       "[6886.21337890625...|\n",
       "(17,[0,1,5,9,10,1...|\n",
       "[41.0894889831543...|\n",
       "[1989.072265625,1...|\n",
       "[3577.97094726562...|\n",
       "[2016.68469238281...|\n",
       "+--------------------+\n",
       "only showing top 20 rows\n",
       "\n",
       "</div>"
      ]
     },
     "metadata": {},
     "output_type": "display_data"
    }
   ],
   "source": [
    "vecAssembler = VectorAssembler(inputCols=FEAT, outputCol=\"features\")\n",
    "df_kmeans = vecAssembler.transform(ndf).select('features')\n",
    "df_kmeans.show()"
   ]
  },
  {
   "cell_type": "code",
   "execution_count": 8,
   "metadata": {},
   "outputs": [
    {
     "data": {
      "text/html": [
       "<style scoped>\n",
       "  .ansiout {\n",
       "    display: block;\n",
       "    unicode-bidi: embed;\n",
       "    white-space: pre-wrap;\n",
       "    word-wrap: break-word;\n",
       "    word-break: break-all;\n",
       "    font-family: \"Source Code Pro\", \"Menlo\", monospace;;\n",
       "    font-size: 13px;\n",
       "    color: #555;\n",
       "    margin-left: 4px;\n",
       "    line-height: 19px;\n",
       "  }\n",
       "</style>\n",
       "<div class=\"ansiout\"></div>"
      ]
     },
     "metadata": {},
     "output_type": "display_data"
    }
   ],
   "source": [
    "#compute cost of all Ks\n",
    "cost = np.zeros(30)\n",
    "for k in range(2,29):\n",
    "    kmeans = KMeans().setK(k).setSeed(1).setFeaturesCol(\"features\")\n",
    "    model = kmeans.fit(df_kmeans.sample(False,0.1, seed=42))\n",
    "    cost[k] = model.computeCost(df_kmeans) # requires Spark 2.0 or later"
   ]
  },
  {
   "cell_type": "code",
   "execution_count": 9,
   "metadata": {},
   "outputs": [
    {
     "data": {
      "image/png": "[encoded data removed]"
     },
     "metadata": {},
     "output_type": "display_data"
    }
   ],
   "source": [
    "#plot cost of all Ks\n",
    "fig, ax = plt.subplots(1,1, figsize =(8,6))\n",
    "ax.plot(range(2,29),cost[2:29])\n",
    "ax.set_xlabel('k')\n",
    "ax.set_ylabel('cost')\n",
    "display()"
   ]
  },
  {
   "cell_type": "code",
   "execution_count": 10,
   "metadata": {},
   "outputs": [
    {
     "data": {
      "text/html": [
       "<style scoped>\n",
       "  .ansiout {\n",
       "    display: block;\n",
       "    unicode-bidi: embed;\n",
       "    white-space: pre-wrap;\n",
       "    word-wrap: break-word;\n",
       "    word-break: break-all;\n",
       "    font-family: \"Source Code Pro\", \"Menlo\", monospace;;\n",
       "    font-size: 13px;\n",
       "    color: #555;\n",
       "    margin-left: 4px;\n",
       "    line-height: 19px;\n",
       "  }\n",
       "</style>\n",
       "<div class=\"ansiout\">Cluster Centers: \n",
       "[  4.02945672e+03   9.53846334e-01   8.74245375e+02   5.17689479e+02\n",
       "   3.56555897e+02   5.75155362e+03   3.94026851e-01   1.93093202e-01\n",
       "   2.92642305e-01   4.40063201e-01   1.44179104e+01   1.58208955e+01\n",
       "   8.37316825e+03   7.92787209e+03   1.42116531e+03   7.22830071e-02\n",
       "   1.17014925e+01]\n",
       "[  1.04929250e+04   9.99011859e-01   2.17892141e+03   1.20476968e+03\n",
       "   9.74879457e+02   2.13434467e+03   5.79347825e-01   3.11347142e-01\n",
       "   4.96508587e-01   2.63026988e-01   5.91304348e+00   3.17500000e+01\n",
       "   1.53527174e+04   3.35333250e+03   3.35126262e+03   0.00000000e+00\n",
       "   1.18369565e+01]\n",
       "[  6.50576080e+02   8.79138911e-01   3.11377458e+02   1.28350763e+02\n",
       "   1.83425113e+02   2.64527399e+02   4.31874216e-01   9.33618121e-02\n",
       "   3.39282849e-01   9.92311078e-02   1.79055690e+00   7.24899112e+00\n",
       "   1.35165591e+03   5.43578775e+02   3.78227305e+02   1.27384418e-01\n",
       "   1.11698951e+01]\n",
       "[  5.65853425e+03   9.65009498e-01   8.43482507e+02   5.41586868e+02\n",
       "   3.01895627e+02   1.24296103e+04   2.81498000e-01   1.28224208e-01\n",
       "   2.18253958e-01   6.04360586e-01   2.44583333e+01   9.18750000e+00\n",
       "   1.01812500e+04   1.16132878e+04   2.07005930e+03   8.70550214e-02\n",
       "   1.16458333e+01]\n",
       "[  7.08542192e+03   1.00000000e+00   4.08329102e+04   3.47640797e+04\n",
       "   6.06883018e+03   1.11633374e+02   9.66666603e-01   9.33333397e-01\n",
       "   8.33333403e-01   1.66666001e-02   2.00000000e-01   2.31000000e+02\n",
       "   1.75000000e+04   3.63464730e+04   4.21501975e+03   6.16666600e-01\n",
       "   1.20000000e+01]\n",
       "[  3.82024552e+03   6.43738887e-01   1.84774887e+03   1.11713482e+03\n",
       "   7.31428893e+02   4.79812040e+03   4.07126814e-01   2.58978630e-01\n",
       "   3.01346850e-01   2.51523187e-01   9.37037037e+00   2.27037037e+01\n",
       "   1.17185185e+04   1.96497242e+04   1.62595867e+03   2.63804628e-01\n",
       "   1.15555556e+01]\n",
       "[  4.75849341e+03   6.36363506e-01   9.86691998e+03   8.97250000e+03\n",
       "   8.94419983e+02   4.50156021e+01   5.83333500e-01   8.33334997e-02\n",
       "   5.00000000e-01   4.16665003e-02   5.00000000e-01   7.50000000e+00\n",
       "   1.80000000e+04   4.56745391e+04   1.64986865e+03   8.33334997e-02\n",
       "   1.20000000e+01]\n",
       "[  7.84492891e+02   8.87960755e-01   1.29228787e+03   6.95927784e+02\n",
       "   5.96360080e+02   7.75531468e+02   5.78243475e-01   2.81759429e-01\n",
       "   4.13165383e-01   1.39404963e-01   3.31897927e+00   1.84433812e+01\n",
       "   2.06831473e+03   2.43926448e+03   5.92791179e+02   2.09329990e-01\n",
       "   1.16283892e+01]\n",
       "[  1.77434130e+03   8.63697237e-01   5.02440000e+02   2.63761293e+02\n",
       "   2.38838710e+02   3.17937816e+03   2.96838502e-01   1.35289838e-01\n",
       "   1.92375360e-01   3.19438613e-01   9.44700461e+00   7.98156682e+00\n",
       "   4.35791091e+03   5.50657726e+03   8.72600376e+02   1.58308000e-01\n",
       "   1.17096774e+01]\n",
       "[  3.08147002e+03   9.27730601e-01   3.68603871e+02   2.15637808e+02\n",
       "   1.52966061e+02   4.29149634e+03   2.60658295e-01   1.11938222e-01\n",
       "   1.74892141e-01   4.19952078e-01   1.16643836e+01   6.40410959e+00\n",
       "   6.13236301e+03   1.45422042e+03   1.02499766e+03   1.22740240e-02\n",
       "   1.09349315e+01]\n",
       "[  1.19075887e+03   9.59158085e-01   5.43801732e+03   3.92184023e+03\n",
       "   1.51964532e+03   3.36720059e+02   8.97982733e-01   7.19828340e-01\n",
       "   6.48172492e-01   5.11472830e-02   1.46242775e+00   6.02485549e+01\n",
       "   5.27601156e+03   5.55063855e+03   6.74671643e+02   4.20103977e-01\n",
       "   1.19190751e+01]\n",
       "[  6.93624937e+03   9.76617786e-01   4.92873422e+02   2.75265722e+02\n",
       "   2.17607702e+02   5.85536681e+03   3.03995823e-01   1.27168502e-01\n",
       "   2.21070754e-01   4.62701721e-01   1.41764706e+01   8.98395722e+00\n",
       "   1.06505348e+04   2.13309452e+03   2.26850565e+03   6.68449198e-04\n",
       "   1.14652406e+01]\n",
       "[  1.11282304e+03   8.56951639e-01   2.00906285e+03   1.29184821e+03\n",
       "   7.17214637e+02   3.98167139e+02   7.22838130e-01   4.66789853e-01\n",
       "   4.72172968e-01   5.23527726e-02   9.91869919e-01   2.58699187e+01\n",
       "   1.60691057e+04   2.65958202e+03   3.83640127e+02   4.36179161e-01\n",
       "   1.18536585e+01]\n",
       "[  5.21251295e+03   9.83422469e-01   2.47041899e+04   1.89637548e+04\n",
       "   5.74043528e+03   1.27966905e+03   9.30392116e-01   8.65686292e-01\n",
       "   7.13725413e-01   4.90195874e-02   2.35294118e+00   1.05352941e+02\n",
       "   1.55000000e+04   2.38860566e+04   3.21921608e+03   5.15819940e-01\n",
       "   1.18823529e+01]\n",
       "[  4.32081132e+03   9.92691200e-01   5.03376549e+03   3.45775522e+03\n",
       "   1.57601028e+03   6.28874466e+02   9.07499993e-01   6.78820364e-01\n",
       "   6.79653692e-01   8.14033004e-02   1.94285714e+00   6.02714286e+01\n",
       "   1.00050000e+04   3.51528067e+03   1.68288644e+03   6.95237789e-02\n",
       "   1.18285714e+01]\n",
       "[  3.29820203e+03   9.82565396e-01   1.06730133e+04   6.84074181e+03\n",
       "   3.83227150e+03   5.43963135e+02   9.19883780e-01   7.73661313e-01\n",
       "   7.38480700e-01   7.07762331e-02   1.78082192e+00   1.11561644e+02\n",
       "   1.09842466e+04   1.02589425e+04   1.51184522e+03   3.75228780e-01\n",
       "   1.19726027e+01]\n",
       "[  2.47024759e+03   9.76458399e-01   3.24407134e+02   1.81834738e+02\n",
       "   1.42616021e+02   1.22276136e+03   2.81307306e-01   1.07452063e-01\n",
       "   1.93217089e-01   2.36692100e-01   5.25000000e+00   6.63874346e+00\n",
       "   3.23972513e+03   9.08676173e+02   1.36734731e+03   2.85502356e-03\n",
       "   1.14882199e+01]\n",
       "[  1.12040345e+03   9.54502733e-01   2.81813377e+03   1.63964170e+03\n",
       "   1.17849207e+03   1.55934581e+02   8.74825248e-01   5.50256266e-01\n",
       "   6.75082134e-01   3.93800715e-02   7.14285714e-01   3.94605911e+01\n",
       "   5.61879758e+03   2.40742401e+03   4.66059820e+02   2.69548391e-01\n",
       "   1.18866995e+01]\n",
       "[  6.67408088e+03   1.00000000e+00   1.71449858e+03   0.00000000e+00\n",
       "   1.71449858e+03   1.00854626e+03   5.71428571e-01   0.00000000e+00\n",
       "   5.71428571e-01   5.95238571e-02   2.28571429e+00   3.41428571e+01\n",
       "   6.45714286e+03   2.16965366e+03   5.26204330e+04   0.00000000e+00\n",
       "   1.20000000e+01]\n",
       "[  6.03949611e+02   8.49634674e-01   6.26454781e+02   3.14471525e+02\n",
       "   3.12385133e+02   1.70253598e+02   5.50479099e-01   2.34136560e-01\n",
       "   3.77329960e-01   4.32274865e-02   8.15980630e-01   1.24322034e+01\n",
       "   6.38699098e+03   9.29990799e+02   2.52107962e+02   2.52565020e-01\n",
       "   1.18171913e+01]\n",
       "[  3.30490377e+03   9.84997044e-01   8.15876181e+02   1.50313823e+02\n",
       "   6.65562351e+02   9.15948972e+02   4.40842205e-01   4.21122494e-02\n",
       "   4.08645294e-01   1.09811294e-01   3.22058824e+00   1.48823529e+01\n",
       "   3.53455882e+03   1.25164038e+03   1.62534922e+04   3.67645591e-03\n",
       "   1.18676471e+01]\n",
       "[  3.53821454e+02   8.02814489e-01   5.13994438e+02   2.18924821e+02\n",
       "   2.95547811e+02   1.71588776e+02   5.35938059e-01   1.34089610e-01\n",
       "   4.25059410e-01   4.46007376e-02   8.19420784e-01   1.02793867e+01\n",
       "   3.24777163e+03   6.31182910e+02   1.94894300e+02   2.39533893e-01\n",
       "   1.16925043e+01]\n",
       "[  5.25675831e+03   9.98765747e-01   6.05831572e+02   3.47454578e+02\n",
       "   2.58376993e+02   1.64124544e+03   3.79191590e-01   1.81669197e-01\n",
       "   2.56854666e-01   2.84691303e-01   6.22191011e+00   1.18174157e+01\n",
       "   7.36264045e+03   1.66310988e+03   1.87175769e+03   0.00000000e+00\n",
       "   1.18595506e+01]\n",
       "[  1.10933455e+03   8.91901507e-01   1.04434927e+03   6.37220651e+02\n",
       "   4.07255896e+02   3.07634310e+02   6.02821911e-01   3.50294298e-01\n",
       "   3.88259603e-01   5.60067013e-02   1.05974026e+00   1.62363636e+01\n",
       "   1.01390909e+04   1.54535802e+03   3.70642105e+02   2.32738135e-01\n",
       "   1.17298701e+01]\n",
       "[  7.58332629e+03   9.39393932e-01   2.88222604e+03   1.72442402e+03\n",
       "   1.15780196e+03   2.29124320e+04   4.94444467e-01   3.33333330e-01\n",
       "   4.00000001e-01   6.05050406e-01   3.18000000e+01   4.24000000e+01\n",
       "   1.36733333e+04   2.54231467e+04   3.85396976e+03   2.00860933e-01\n",
       "   1.19333333e+01]\n",
       "</div>"
      ]
     },
     "metadata": {},
     "output_type": "display_data"
    }
   ],
   "source": [
    "#use the best k\n",
    "k = 25\n",
    "kmeans = KMeans().setK(k).setSeed(1).setFeaturesCol(\"features\")\n",
    "model = kmeans.fit(df_kmeans)\n",
    "centers = model.clusterCenters()\n",
    "\n",
    "print(\"Cluster Centers: \")\n",
    "for center in centers:\n",
    "    print(center)"
   ]
  }
 ],
 "metadata": {
  "kernelspec": {
   "display_name": "Python 3",
   "language": "python",
   "name": "python3"
  },
  "language_info": {
   "codemirror_mode": {
    "name": "ipython",
    "version": 3
   },
   "file_extension": ".py",
   "mimetype": "text/x-python",
   "name": "python",
   "nbconvert_exporter": "python",
   "pygments_lexer": "ipython3",
   "version": "3.7.3"
  },
  "name": "2019-09-15 - DBFS Example",
  "notebookId": 4239327777720595
 },
 "nbformat": 4,
 "nbformat_minor": 1
}
